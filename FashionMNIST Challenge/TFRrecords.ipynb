{
 "cells": [
  {
   "cell_type": "markdown",
   "metadata": {},
   "source": [
    "# 作业1：将数据集划分成训练集、验证集、测试集并存储成TFRecord文件。"
   ]
  },
  {
   "cell_type": "code",
   "execution_count": 1,
   "metadata": {},
   "outputs": [
    {
     "name": "stdout",
     "output_type": "stream",
     "text": [
      "Extracting /home/srhyme/fashion-mnist-master/data/fashion/train-images-idx3-ubyte.gz\n",
      "Extracting /home/srhyme/fashion-mnist-master/data/fashion/train-labels-idx1-ubyte.gz\n",
      "Extracting /home/srhyme/fashion-mnist-master/data/fashion/t10k-images-idx3-ubyte.gz\n",
      "Extracting /home/srhyme/fashion-mnist-master/data/fashion/t10k-labels-idx1-ubyte.gz\n",
      "训练集已经全部写入，写入数量为： 55000\n",
      "Extracting /home/srhyme/fashion-mnist-master/data/fashion/train-images-idx3-ubyte.gz\n",
      "Extracting /home/srhyme/fashion-mnist-master/data/fashion/train-labels-idx1-ubyte.gz\n",
      "Extracting /home/srhyme/fashion-mnist-master/data/fashion/t10k-images-idx3-ubyte.gz\n",
      "Extracting /home/srhyme/fashion-mnist-master/data/fashion/t10k-labels-idx1-ubyte.gz\n",
      "测试集已经全部写入，写入数量为： 10000\n"
     ]
    }
   ],
   "source": [
    "import tensorflow as tf\n",
    "from tensorflow.examples.tutorials.mnist import input_data\n",
    "import numpy as np\n",
    "\n",
    "# 把传入的value转化为整数型的属性，int64_list对应着 tf.train.Example 的定义\n",
    "def _int64_feature(value):\n",
    "    return tf.train.Feature(int64_list=tf.train.Int64List(value=[value]))  \n",
    "  \n",
    "# 把传入的value转化为字符串型的属性，bytes_list对应着 tf.train.Example 的定义\n",
    "def _bytes_feature(value):  \n",
    "    return tf.train.Feature(bytes_list=tf.train.BytesList(value=[value]))\n",
    "\n",
    "#读取fashion-mnist训练集数据\n",
    "mnist = input_data.read_data_sets(\"/home/srhyme/fashion-mnist-master/data/fashion\", dtype=tf.uint8, one_hot=True)  \n",
    "#训练数据的图像,所对应的正确答案以及图像分辨率，作为一个属性来存储  \n",
    "images = mnist.train.images\n",
    "labels = mnist.train.labels\n",
    "pixels = images.shape[0]  \n",
    "#训练数据的个数\n",
    "num_examples = mnist.train.num_examples\n",
    "#指定要写入TFRecord文件的地址\n",
    "filename = \"/home/srhyme/ML project/DS/train.tfrecords\"  \n",
    "#创建一个write来写TFRecord文件  \n",
    "writer = tf.python_io.TFRecordWriter(filename)  \n",
    "for index in range(num_examples):  \n",
    "    #把图像矩阵转化为字符串  \n",
    "    image_raw = images[index].tostring()  \n",
    "    #将一个样例转化为Example Protocol Buffer，并将所有的信息写入这个数据结构  \n",
    "    example = tf.train.Example(features=tf.train.Features(feature={  \n",
    "        'pixels': _int64_feature(pixels),  \n",
    "        'label': _int64_feature(np.argmax(labels[index])),  \n",
    "        'image_raw': _bytes_feature(image_raw)}))  \n",
    "    #将 Example 写入TFRecord文件\n",
    "    writer.write(example.SerializeToString())   \n",
    "writer.close()\n",
    "print('训练集已经全部写入，写入数量为：',num_examples)\n",
    "\n",
    "\n",
    "#读取fashion-mnist测试集数据\n",
    "mnist = input_data.read_data_sets(\"/home/srhyme/fashion-mnist-master/data/fashion\", dtype=tf.uint8, one_hot=True)  \n",
    "#测试数据的图像,所对应的正确答案以及图像分辨率，作为一个属性来存储  \n",
    "images = mnist.test.images\n",
    "labels = mnist.test.labels\n",
    "pixels = images.shape[0]  \n",
    "#测试数据的个数\n",
    "num_examples = mnist.test.num_examples\n",
    "#指定要写入TFRecord文件的地址\n",
    "filename = \"/home/srhyme/ML project/DS/test.tfrecords\"  \n",
    "#创建一个write来写TFRecord文件  无标题文档\n",
    "writer = tf.python_io.TFRecordWriter(filename)  \n",
    "for index in range(num_examples):  \n",
    "    #把图像矩阵转化为字符串  \n",
    "    image_raw = images[index].tostring()  \n",
    "    #将一个样例转化为Example Protocol Buffer，并将所有的信息写入这个数据结构  \n",
    "    example = tf.train.Example(features=tf.train.Features(feature={  \n",
    "        'pixels': _int64_feature(pixels),  \n",
    "        'label': _int64_feature(np.argmax(labels[index])),  \n",
    "        'image_raw': _bytes_feature(image_raw)}))  \n",
    "    #将 Example 写入TFRecord文件\n",
    "    writer.write(example.SerializeToString()) \n",
    "writer.close()\n",
    "print('测试集已经全部写入，写入数量为：',num_examples)"
   ]
  }
 ],
 "metadata": {
  "kernelspec": {
   "display_name": "Python 3",
   "language": "python",
   "name": "python3"
  },
  "language_info": {
   "codemirror_mode": {
    "name": "ipython",
    "version": 3
   },
   "file_extension": ".py",
   "mimetype": "text/x-python",
   "name": "python",
   "nbconvert_exporter": "python",
   "pygments_lexer": "ipython3",
   "version": "3.5.2"
  }
 },
 "nbformat": 4,
 "nbformat_minor": 2
}
