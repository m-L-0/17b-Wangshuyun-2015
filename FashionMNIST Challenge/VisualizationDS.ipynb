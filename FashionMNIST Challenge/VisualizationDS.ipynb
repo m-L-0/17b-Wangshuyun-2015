{
 "cells": [
  {
   "cell_type": "markdown",
   "metadata": {},
   "source": [
    "# 作业2利用matplotlib等工具对TFRecord中的样本数据进行可视化"
   ]
  },
  {
   "cell_type": "code",
   "execution_count": 7,
   "metadata": {},
   "outputs": [
    {
     "name": "stdout",
     "output_type": "stream",
     "text": [
      "请输入需要验证的图片数量:2\n"
     ]
    },
    {
     "data": {
      "image/png": "[encoded data removed]",
      "text/plain": [
       "<matplotlib.figure.Figure at 0x7f32f57ce9e8>"
      ]
     },
     "metadata": {},
     "output_type": "display_data"
    },
    {
     "name": "stdout",
     "output_type": "stream",
     "text": [
      "图片中的物品为: 外套\n"
     ]
    },
    {
     "data": {
      "image/png": "[encoded data removed]",
      "text/plain": [
       "<matplotlib.figure.Figure at 0x7f32f580ada0>"
      ]
     },
     "metadata": {},
     "output_type": "display_data"
    },
    {
     "name": "stdout",
     "output_type": "stream",
     "text": [
      "图片中的物品为: T恤\n",
      "INFO:tensorflow:Error reported to Coordinator: <class 'tensorflow.python.framework.errors_impl.CancelledError'>, Enqueue operation was cancelled\n",
      "\t [[Node: input_producer_2/input_producer_2_EnqueueMany = QueueEnqueueManyV2[Tcomponents=[DT_STRING], timeout_ms=-1, _device=\"/job:localhost/replica:0/task:0/device:CPU:0\"](input_producer_2, input_producer_2/RandomShuffle)]]\n"
     ]
    }
   ],
   "source": [
    "import numpy as np\n",
    "import matplotlib.pyplot as plt\n",
    "import pylab\n",
    "import tensorflow as tf\n",
    "\n",
    "num=int(input('请输入需要验证的图片数量:'))\n",
    "#创建一个字典存储数字所对应的标签\n",
    "bq={0:'T恤',1:'裤子',2:'套衫',3:'裙子',4:'外套',5:'凉鞋',6:'汗衫',7:'运动鞋',8:'包',9:'踝靴'} \n",
    "#创建一个reader来读取TFRecord文件中的样例并创建输入队列\n",
    "reader = tf.TFRecordReader()\n",
    "filename_queue = tf.train.string_input_producer([\"/home/srhyme/ML project/DS/train.tfrecords\"])  \n",
    "#从文件中读取并解析一个样例  \n",
    "_, example = reader.read(filename_queue)  \n",
    "features = tf.parse_single_example(\n",
    "    example,features={\n",
    "        'image_raw': tf.FixedLenFeature([], tf.string),  \n",
    "        'label': tf.FixedLenFeature([], tf.int64),  \n",
    "    })\n",
    "#将字符串解析成图像对应的像素数组,其他数据转换成需要的数据类型\n",
    "images = tf.decode_raw(features['image_raw'], tf.uint8)\n",
    "labels = tf.cast(features['label'], tf.int32) \n",
    " \n",
    "with tf.Session() as sess:  \n",
    "#启动多线程处理输入数据\n",
    "    coord = tf.train.Coordinator()  \n",
    "    threads = tf.train.start_queue_runners(sess=sess, coord=coord)\n",
    "#可视化数据\n",
    "    for i in range(num):\n",
    "        image, label = sess.run([images, labels])\n",
    "        image=image.reshape(28,28)       \n",
    "        plt.imshow(image)\n",
    "        pylab.show()\n",
    "        print('图片中的物品为:',bq[label])"
   ]
  }
 ],
 "metadata": {
  "kernelspec": {
   "display_name": "Python 3",
   "language": "python",
   "name": "python3"
  },
  "language_info": {
   "codemirror_mode": {
    "name": "ipython",
    "version": 3
   },
   "file_extension": ".py",
   "mimetype": "text/x-python",
   "name": "python",
   "nbconvert_exporter": "python",
   "pygments_lexer": "ipython3",
   "version": "3.5.2"
  }
 },
 "nbformat": 4,
 "nbformat_minor": 2
}
